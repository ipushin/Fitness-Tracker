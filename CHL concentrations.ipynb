{
 "cells": [
  {
   "cell_type": "code",
   "execution_count": 1,
   "metadata": {},
   "outputs": [
    {
     "name": "stderr",
     "output_type": "stream",
     "text": [
      "Using TensorFlow backend.\n"
     ]
    }
   ],
   "source": [
    "from keras.models import Sequential\n",
    "from keras.layers import Dense\n",
    "import keras.layers as L\n",
    "import keras\n",
    "import pandas as pd\n",
    "import numpy as np\n",
    "from netCDF4 import Dataset\n",
    "import glob\n",
    "\n",
    "import glob\n",
    "import os \n",
    "import matplotlib.pyplot as plt\n",
    "from matplotlib.ticker import AutoMinorLocator, FormatStrFormatter, FixedLocator\n",
    "import matplotlib.ticker as mtick"
   ]
  },
  {
   "cell_type": "code",
   "execution_count": 2,
   "metadata": {},
   "outputs": [],
   "source": [
    "pd.set_option('display.max_columns', None)\n",
    "pd.set_option('display.max_rows', None)"
   ]
  },
  {
   "cell_type": "markdown",
   "metadata": {},
   "source": [
    "# Files Processing"
   ]
  },
  {
   "cell_type": "code",
   "execution_count": 3,
   "metadata": {},
   "outputs": [],
   "source": [
    "Colour_data_size = 4416*5664 # size of the colour data\n",
    "Insitu_data_size = 1 # size of the insitu data\n",
    "Input_data_size = Colour_data_size + Insitu_data_size"
   ]
  },
  {
   "cell_type": "code",
   "execution_count": 4,
   "metadata": {},
   "outputs": [],
   "source": [
    "historic_path = '/Users/macbook/Desktop/UpWork/CHL level prediction/historicData'"
   ]
  },
  {
   "cell_type": "code",
   "execution_count": 5,
   "metadata": {},
   "outputs": [],
   "source": [
    "# list all files in the data folder\n",
    "files = [f for f in glob.glob(historic_path + \"/*.nc\", recursive=True)]"
   ]
  },
  {
   "cell_type": "code",
   "execution_count": 6,
   "metadata": {},
   "outputs": [
    {
     "data": {
      "text/plain": [
       "['/Users/macbook/Desktop/UpWork/CHL level prediction/historicData/07.07.2018.nc',\n",
       " '/Users/macbook/Desktop/UpWork/CHL level prediction/historicData/08.07.2018.nc',\n",
       " '/Users/macbook/Desktop/UpWork/CHL level prediction/historicData/09.07.2018.nc',\n",
       " '/Users/macbook/Desktop/UpWork/CHL level prediction/historicData/13.07.2018.nc',\n",
       " '/Users/macbook/Desktop/UpWork/CHL level prediction/historicData/16.07.2018.nc',\n",
       " '/Users/macbook/Desktop/UpWork/CHL level prediction/historicData/18.07.2018.nc',\n",
       " '/Users/macbook/Desktop/UpWork/CHL level prediction/historicData/20.07.2018.nc',\n",
       " '/Users/macbook/Desktop/UpWork/CHL level prediction/historicData/21.07.2018.nc',\n",
       " '/Users/macbook/Desktop/UpWork/CHL level prediction/historicData/22.07.2018.nc',\n",
       " '/Users/macbook/Desktop/UpWork/CHL level prediction/historicData/24.07.2018.nc']"
      ]
     },
     "execution_count": 6,
     "metadata": {},
     "output_type": "execute_result"
    }
   ],
   "source": [
    "files = sorted(files)\n",
    "files"
   ]
  },
  {
   "cell_type": "markdown",
   "metadata": {},
   "source": [
    "# Current Model"
   ]
  },
  {
   "cell_type": "code",
   "execution_count": 32,
   "metadata": {},
   "outputs": [],
   "source": [
    "model_current=Sequential()\n",
    "model_current.add(Dense(1, input_dim=Input_data_size, activation='relu'))\n",
    "model_current.add(Dense(Colour_data_size, activation='sigmoid'))\n",
    "\n",
    "# Compile the model\n",
    "model_current.compile(loss='mse', optimizer='adam', metrics=['mape'])"
   ]
  },
  {
   "cell_type": "code",
   "execution_count": 33,
   "metadata": {},
   "outputs": [
    {
     "name": "stdout",
     "output_type": "stream",
     "text": [
      "Epoch 1/1\n",
      "1/1 [==============================] - 4s 4s/step - loss: 272612.6875 - mape: 256.5472\n",
      "Epoch 1/1\n",
      "1/1 [==============================] - 4s 4s/step - loss: 272611.3125 - mape: 254.7769\n",
      "Epoch 1/1\n",
      "1/1 [==============================] - 3s 3s/step - loss: 272611.1875 - mape: 254.8166\n",
      "Epoch 1/1\n",
      "1/1 [==============================] - 2s 2s/step - loss: 272611.2188 - mape: 243.4128\n",
      "Epoch 1/1\n",
      "1/1 [==============================] - 1s 1s/step - loss: 272610.9688 - mape: 264.9102\n",
      "Epoch 1/1\n",
      "1/1 [==============================] - 2s 2s/step - loss: 272611.0938 - mape: 278.5309\n",
      "Epoch 1/1\n",
      "1/1 [==============================] - 2s 2s/step - loss: 272611.0625 - mape: 270.1370\n",
      "Epoch 1/1\n",
      "1/1 [==============================] - 2s 2s/step - loss: 272610.5625 - mape: 269.5413\n",
      "Epoch 1/1\n",
      "1/1 [==============================] - 3s 3s/step - loss: 272610.6875 - mape: 261.5023\n"
     ]
    }
   ],
   "source": [
    "# Train the model on all of the available data files\n",
    "for e in range(epochs):\n",
    "    for i in range(len(files)-1):\n",
    "        try:\n",
    "            input_data = Dataset(files[i])         # model input (colour data at t=n)\n",
    "            output_data = Dataset(files[i+1])\t   # model output (colour data at t=n+1)\n",
    "\n",
    "            # this is X (colour data)\n",
    "            CHL_levels = input_data.variables[\"CHL\"][0].data.reshape(1,-1)\n",
    "            CHL_levels[CHL_levels==np.min(CHL_levels)] == 0\n",
    "\n",
    "            # this should be replaced by the insitu data input\n",
    "            insitu_data = np.random.rand(Insitu_data_size)\n",
    "\n",
    "            # concatenate colour data and insitu data to create one array of feature inputs\n",
    "            X = np.append(CHL_levels,insitu_data)\n",
    "\n",
    "            # this is the desired output (colour data for the next day)\n",
    "            CHL_levels_Y = output_data.variables[\"CHL\"][0].data.reshape(1,-1)\n",
    "            CHL_levels_Y[CHL_levels_Y==np.min(CHL_levels_Y)] == 0\n",
    "\n",
    "            #Fit the model to the data\n",
    "            model_current.fit(np.expand_dims(X,axis=0), CHL_levels_Y, epochs=1, batch_size=1)\n",
    "        except:\n",
    "            pass"
   ]
  },
  {
   "cell_type": "markdown",
   "metadata": {},
   "source": [
    "# Model"
   ]
  },
  {
   "cell_type": "code",
   "execution_count": 41,
   "metadata": {},
   "outputs": [],
   "source": [
    "model = Sequential()\n",
    "model.add(L.InputLayer([1]))\n",
    "model.add(L.Dense(10, activation = 'relu'))\n",
    "model.add(L.Dense(5, activation = 'relu'))\n",
    "model.add(L.Dense(1))\n",
    "model.compile(loss = 'mse', optimizer = 'adam', metrics=['mape'])"
   ]
  },
  {
   "cell_type": "markdown",
   "metadata": {},
   "source": [
    "### Training model on all data to get neural net ready for prediction"
   ]
  },
  {
   "cell_type": "code",
   "execution_count": null,
   "metadata": {},
   "outputs": [
    {
     "name": "stdout",
     "output_type": "stream",
     "text": [
      "\n",
      "Training model on 07.07.2018 and 08.07.2018 data\n",
      "Epoch 1/2\n",
      " 6457000/25012225 [======>.......................] - ETA: 43s - loss: 0.4877 - mape: 18.6060"
     ]
    }
   ],
   "source": [
    "for i in range(len(files)-2): #-2 because we keep last date to check model performance\n",
    "    try:\n",
    "        input_data = Dataset(files[i])         # model input (colour data at t=n)\n",
    "        output_data = Dataset(files[i+1])   # model output (colour data at t=n+1)\n",
    "            \n",
    "        # this is X (colour data)\n",
    "        CHL_levels = input_data.variables[\"CHL\"][0].data.reshape(1,-1)\n",
    "        # this should be replaced by the insitu data input\n",
    "        insitu_data = np.random.rand(Insitu_data_size)\n",
    "        # concatenate colour data and insitu data to create one array of feature inputs\n",
    "        X = np.append(CHL_levels,insitu_data)\n",
    "            \n",
    "        # this is the desired output (colour data for the next day)\n",
    "        CHL_levels_Y = output_data.variables[\"CHL\"][0].data.reshape(1,-1)\n",
    "        CHL_levels_Y = np.append(CHL_levels_Y,insitu_data)\n",
    "        print('')\n",
    "        print('Training model on {} and {} data'.format(files[i][-13:-3], files[i+1][-13:-3]))\n",
    "        #print('_'*50)\n",
    "        #Fit the model to the data\n",
    "        model.fit(X, CHL_levels_Y, epochs=2, batch_size=1000)\n",
    "    except:\n",
    "        pass"
   ]
  },
  {
   "cell_type": "markdown",
   "metadata": {},
   "source": [
    "# Test prediction"
   ]
  },
  {
   "cell_type": "markdown",
   "metadata": {},
   "source": [
    "#### Getting data for the date *before* the day we'd like to predict"
   ]
  },
  {
   "cell_type": "code",
   "execution_count": 43,
   "metadata": {},
   "outputs": [],
   "source": [
    "input_data = Dataset(files[-2])            \n",
    "\n",
    "# colour data\n",
    "CHL_levels_t = input_data.variables[\"CHL\"][0].data.reshape(1,-1)\n",
    "CHL_levels_t[CHL_levels_t==np.min(CHL_levels_t)] == 0\n",
    "\n",
    "# this should be replaced by the insitu data input\n",
    "insitu_data = np.random.rand(Insitu_data_size)\n",
    "            \n",
    "# concatenate colour data and insitu data to create one array of feature inputs\n",
    "X = np.append(CHL_levels_t,insitu_data)"
   ]
  },
  {
   "cell_type": "code",
   "execution_count": 44,
   "metadata": {},
   "outputs": [
    {
     "data": {
      "text/plain": [
       "(25012225, 1)"
      ]
     },
     "execution_count": 44,
     "metadata": {},
     "output_type": "execute_result"
    }
   ],
   "source": [
    "forecast = model.predict(X)\n",
    "forecast.shape"
   ]
  },
  {
   "cell_type": "markdown",
   "metadata": {},
   "source": [
    "#### Getting original data for the last date  to compare forecasted values and ground_truth"
   ]
  },
  {
   "cell_type": "code",
   "execution_count": 45,
   "metadata": {},
   "outputs": [],
   "source": [
    "last_date_data = Dataset(files[-1])\n",
    "CHL_last_date = last_date_data.variables[\"CHL\"][0].data.reshape(1,-1)\n",
    "CHL_last_date = np.append(CHL_last_date,insitu_data)"
   ]
  },
  {
   "cell_type": "code",
   "execution_count": 52,
   "metadata": {},
   "outputs": [
    {
     "name": "stdout",
     "output_type": "stream",
     "text": [
      "Mean absolute error: 25.23%\n"
     ]
    }
   ],
   "source": [
    "test_table = pd.DataFrame({'CHL_last_date':CHL_last_date,\n",
    "                          'CHL_forecast':forecast.reshape(1,-1)[0]})\n",
    "test_table['delta'] = test_table['CHL_forecast'] - test_table['CHL_last_date']\n",
    "test_table['error_percent'] = test_table['delta']/test_table['CHL_last_date']*100\n",
    "\n",
    "error = test_table[test_table['CHL_last_date'] != -999]['error_percent'].abs().mean()\n",
    "print('Mean absolute error: {}%'.format(round(error,2)))"
   ]
  },
  {
   "cell_type": "markdown",
   "metadata": {},
   "source": [
    "#### Plotting errors distribution"
   ]
  },
  {
   "cell_type": "code",
   "execution_count": 55,
   "metadata": {},
   "outputs": [
    {
     "data": {
      "image/png": "[encoded data removed]",
      "text/plain": [
       "<Figure size 504x144 with 1 Axes>"
      ]
     },
     "metadata": {
      "needs_background": "light"
     },
     "output_type": "display_data"
    }
   ],
   "source": [
    "plot_data = test_table[test_table['CHL_last_date'] != -999]['error_percent']\n",
    "fig, ax = plt.subplots(figsize=(7,2))\n",
    "ax.set_title('Prediction error distribution')\n",
    "ax.boxplot(plot_data, showfliers=False, vert=False, widths=[0.4], \n",
    "           boxprops = dict(linewidth=2, color='black'),\n",
    "           whiskerprops = dict(linewidth=1.5, color='black', linestyle='--'),\n",
    "           capprops = dict(linewidth=1.5, color='black', linestyle='--'),\n",
    "           medianprops=dict(linewidth=2, color='red'))\n",
    "ax.set_xlim(-80,80)\n",
    "ax.xaxis.set_major_locator(plt.MaxNLocator(12))\n",
    "ax.xaxis.set_major_formatter(mtick.PercentFormatter())\n",
    "plt.tick_params(axis='y',left=False,labelleft=False)"
   ]
  },
  {
   "cell_type": "markdown",
   "metadata": {},
   "source": [
    "#### Getting coordinates"
   ]
  },
  {
   "cell_type": "code",
   "execution_count": null,
   "metadata": {},
   "outputs": [],
   "source": [
    "lats_t = last_date_data.variables[\"lat\"][:].data.reshape(1,-1)[0]\n",
    "lons_t = last_date_data.variables[\"lon\"][:].data.reshape(1,-1)[0]\n",
    "lat = []\n",
    "lon = []\n",
    "for i in range(0, 4416):\n",
    "    lat.extend([lats_t[i]]*5664)\n",
    "    lon.extend(lons_t)\n",
    "map_data = pd.DataFrame({'lat':lat,\n",
    "                         'lon':lon})\n",
    "map_data.shape"
   ]
  },
  {
   "cell_type": "code",
   "execution_count": null,
   "metadata": {},
   "outputs": [],
   "source": [
    "test_table = pd.concat([test_table, map_data], axis=1)"
   ]
  },
  {
   "cell_type": "code",
   "execution_count": null,
   "metadata": {},
   "outputs": [],
   "source": [
    "test_table.shape"
   ]
  },
  {
   "cell_type": "markdown",
   "metadata": {},
   "source": [
    "# Mapping"
   ]
  },
  {
   "cell_type": "code",
   "execution_count": null,
   "metadata": {},
   "outputs": [],
   "source": [
    "from keplergl import KeplerGl"
   ]
  },
  {
   "cell_type": "code",
   "execution_count": null,
   "metadata": {},
   "outputs": [],
   "source": [
    "# here we use every 20th value to optimize mapping process\n",
    "kepler_pred = test_table[['CHL_forecast','lat','lon']].loc[::20,:]\n",
    "kepler_true  = test_table[['CHL_last_date','lat','lon']].loc[::20,:]"
   ]
  },
  {
   "cell_type": "code",
   "execution_count": null,
   "metadata": {},
   "outputs": [],
   "source": [
    "# pulling map config file\n",
    "%run map_config.py"
   ]
  },
  {
   "cell_type": "code",
   "execution_count": null,
   "metadata": {
    "scrolled": false
   },
   "outputs": [],
   "source": [
    "map = KeplerGl(height=800, data={'data_pred': kepler_pred, 'data_true':kepler_true}, config=config)\n",
    "map"
   ]
  },
  {
   "cell_type": "code",
   "execution_count": null,
   "metadata": {},
   "outputs": [],
   "source": [
    "#with open('map_config.py', 'w') as f:\n",
    "    #f.write('config = {}'.format(map.config))"
   ]
  },
  {
   "cell_type": "code",
   "execution_count": null,
   "metadata": {},
   "outputs": [],
   "source": [
    "#map.save_to_html(data={'data_pred': kepler_pred, 'data_true':kepler_true}, file_name='CHL_level_map.html')"
   ]
  }
 ],
 "metadata": {
  "kernelspec": {
   "display_name": "Python 3",
   "language": "python",
   "name": "python3"
  },
  "language_info": {
   "codemirror_mode": {
    "name": "ipython",
    "version": 3
   },
   "file_extension": ".py",
   "mimetype": "text/x-python",
   "name": "python",
   "nbconvert_exporter": "python",
   "pygments_lexer": "ipython3",
   "version": "3.7.5"
  }
 },
 "nbformat": 4,
 "nbformat_minor": 2
}
